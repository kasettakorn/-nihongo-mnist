{
  "nbformat": 4,
  "nbformat_minor": 0,
  "metadata": {
    "colab": {
      "name": "Japanese classify.ipynb",
      "provenance": [],
      "authorship_tag": "ABX9TyOfDlT69iu5Idp9YrDYkNKb",
      "include_colab_link": true
    },
    "kernelspec": {
      "name": "python3",
      "display_name": "Python 3"
    },
    "language_info": {
      "name": "python"
    },
    "accelerator": "GPU"
  },
  "cells": [
    {
      "cell_type": "markdown",
      "metadata": {
        "id": "view-in-github",
        "colab_type": "text"
      },
      "source": [
        "<a href=\"https://colab.research.google.com/github/kasettakorn/nihongo-mnist/blob/main/Japanese_classify.ipynb\" target=\"_parent\"><img src=\"https://colab.research.google.com/assets/colab-badge.svg\" alt=\"Open In Colab\"/></a>"
      ]
    },
    {
      "cell_type": "code",
      "metadata": {
        "id": "XwHONpCMw_Ro"
      },
      "source": [
        "import numpy as np\n",
        "import matplotlib.pyplot as plt\n",
        "import seaborn as sns\n",
        "from keras.models import Sequential\n",
        "from keras.layers import Conv2D, MaxPooling2D, Dense, Dropout, Flatten\n",
        "from keras.utils import to_categorical #One hot encoding"
      ],
      "execution_count": 18,
      "outputs": []
    },
    {
      "cell_type": "markdown",
      "metadata": {
        "id": "ZUuwy0x4zxvS"
      },
      "source": [
        "# Data collection & preparation"
      ]
    },
    {
      "cell_type": "code",
      "metadata": {
        "id": "LSpQwMw0xpcs"
      },
      "source": [
        "def load_dataset():\n",
        "    # x_train = np.load(\"/content/kmnist/k49-train-imgs.npz\")['arr_0']\n",
        "    # y_train = np.load(\"/content/kmnist/k49-train-labels.npz\")['arr_0']\n",
        "    # x_test = np.load(\"/content/kmnist/k49-test-imgs.npz\")['arr_0']\n",
        "    # y_test = np.load(\"/content/kmnist/k49-test-labels.npz\")['arr_0']\n",
        "    x_train = np.load(\"/content/kmnist/kmnist-train-imgs.npz\")['arr_0']\n",
        "    y_train = np.load(\"/content/kmnist/kmnist-train-labels.npz\")['arr_0']\n",
        "    x_test = np.load(\"/content/kmnist/kmnist-test-imgs.npz\")['arr_0']\n",
        "    y_test = np.load(\"/content/kmnist/kmnist-test-labels.npz\")['arr_0']\n",
        "    return x_train, y_train, x_test, y_test\n",
        "x_train, y_train, x_test, y_test = load_dataset()\n",
        "x_train = x_train.reshape(x_train.shape[0], 28, 28, 1)\n",
        "x_test = x_test.reshape(x_test.shape[0], 28, 28, 1)"
      ],
      "execution_count": 19,
      "outputs": []
    },
    {
      "cell_type": "markdown",
      "metadata": {
        "id": "6sSz2lCtzn8f"
      },
      "source": [
        "# Normalize data"
      ]
    },
    {
      "cell_type": "code",
      "metadata": {
        "id": "KxSGfbUUzndh"
      },
      "source": [
        "x_train = x_train.astype('float32')\n",
        "x_test = x_test.astype('float32')\n",
        "x_train /= 255\n",
        "x_test /= 255"
      ],
      "execution_count": 20,
      "outputs": []
    },
    {
      "cell_type": "markdown",
      "metadata": {
        "id": "FuBNNpER0pi8"
      },
      "source": [
        "# Convert to one hot encoding"
      ]
    },
    {
      "cell_type": "code",
      "metadata": {
        "id": "4MSu8Yg90SlW"
      },
      "source": [
        "y_train = to_categorical(y_train, 10)\n",
        "y_test = to_categorical(y_test, 10)"
      ],
      "execution_count": 21,
      "outputs": []
    },
    {
      "cell_type": "markdown",
      "metadata": {
        "id": "WRoUs0Ay0pCY"
      },
      "source": [
        "# Define model"
      ]
    },
    {
      "cell_type": "code",
      "metadata": {
        "colab": {
          "base_uri": "https://localhost:8080/",
          "height": 640
        },
        "id": "ABSQt8uX0xa-",
        "outputId": "fec6532f-eada-46fd-d638-f3f48cd7f94a"
      },
      "source": [
        "model = Sequential()\n",
        "model.add(Conv2D(32, kernel_size=(3,3), activation='relu', input_shape=(28, 28, 1)))\n",
        "model.add(MaxPooling2D())\n",
        "model.add(Conv2D(64, kernel_size=(3,3), activation='relu'))\n",
        "model.add(Dropout(0.25, noise_shape=None))\n",
        "model.add(Flatten())\n",
        "\n",
        "model.add(Dense(128, activation='relu'))\n",
        "model.add(Dropout(0.25, noise_shape=None))\n",
        "model.add(Dense(10, activation='softmax'))\n",
        "\n",
        "model.compile(optimizer='adam', loss='categorical_crossentropy', metrics=['accuracy'])\n",
        "history = model.fit(x_train, y_train, epochs=10, verbose=1, batch_size=128, validation_data=(x_test, y_test))\n",
        "\n",
        "plt.plot(history.history['loss'])\n",
        "plt.title('MLP model loss')\n",
        "plt.ylabel('loss')\n",
        "plt.xlabel('epoch')\n",
        "plt.show()"
      ],
      "execution_count": 22,
      "outputs": [
        {
          "output_type": "stream",
          "text": [
            "Epoch 1/10\n",
            "469/469 [==============================] - 3s 6ms/step - loss: 0.6000 - accuracy: 0.8108 - val_loss: 0.3054 - val_accuracy: 0.9118\n",
            "Epoch 2/10\n",
            "469/469 [==============================] - 3s 6ms/step - loss: 0.1250 - accuracy: 0.9637 - val_loss: 0.2428 - val_accuracy: 0.9327\n",
            "Epoch 3/10\n",
            "469/469 [==============================] - 3s 6ms/step - loss: 0.0765 - accuracy: 0.9768 - val_loss: 0.2064 - val_accuracy: 0.9431\n",
            "Epoch 4/10\n",
            "469/469 [==============================] - 3s 6ms/step - loss: 0.0532 - accuracy: 0.9828 - val_loss: 0.2153 - val_accuracy: 0.9450\n",
            "Epoch 5/10\n",
            "469/469 [==============================] - 3s 6ms/step - loss: 0.0427 - accuracy: 0.9863 - val_loss: 0.2055 - val_accuracy: 0.9471\n",
            "Epoch 6/10\n",
            "469/469 [==============================] - 3s 6ms/step - loss: 0.0350 - accuracy: 0.9883 - val_loss: 0.2076 - val_accuracy: 0.9509\n",
            "Epoch 7/10\n",
            "469/469 [==============================] - 3s 6ms/step - loss: 0.0268 - accuracy: 0.9913 - val_loss: 0.2022 - val_accuracy: 0.9525\n",
            "Epoch 8/10\n",
            "469/469 [==============================] - 3s 6ms/step - loss: 0.0251 - accuracy: 0.9918 - val_loss: 0.2052 - val_accuracy: 0.9511\n",
            "Epoch 9/10\n",
            "469/469 [==============================] - 3s 6ms/step - loss: 0.0198 - accuracy: 0.9931 - val_loss: 0.2151 - val_accuracy: 0.9515\n",
            "Epoch 10/10\n",
            "469/469 [==============================] - 3s 6ms/step - loss: 0.0196 - accuracy: 0.9933 - val_loss: 0.2158 - val_accuracy: 0.9560\n"
          ],
          "name": "stdout"
        },
        {
          "output_type": "display_data",
          "data": {
            "image/png": "[encoded data removed]",
            "text/plain": [
              "<Figure size 432x288 with 1 Axes>"
            ]
          },
          "metadata": {
            "tags": [],
            "needs_background": "light"
          }
        }
      ]
    },
    {
      "cell_type": "code",
      "metadata": {
        "colab": {
          "base_uri": "https://localhost:8080/"
        },
        "id": "UFQTBmYE3IY7",
        "outputId": "b6772e70-3cca-4e37-b508-07bfeba4645d"
      },
      "source": [
        "train_score = model.evaluate(x_train, y_train, verbose=0)\n",
        "test_score = model.evaluate(x_test, y_test, verbose=0)\n",
        "print('Train loss:', train_score[0])\n",
        "print('Train accuracy:', round(train_score[1]*100, 2), \"%\")\n",
        "print('Test loss:', test_score[0])\n",
        "print('Test accuracy:', round(test_score[1]*100, 2), \"%\")\n",
        "\n",
        "model.save(\"mnist.h5\")"
      ],
      "execution_count": 23,
      "outputs": [
        {
          "output_type": "stream",
          "text": [
            "Train loss: 0.004242978524416685\n",
            "Train accuracy: 99.88 %\n",
            "Test loss: 0.21575678884983063\n",
            "Test accuracy: 95.6 %\n"
          ],
          "name": "stdout"
        }
      ]
    },
    {
      "cell_type": "code",
      "metadata": {
        "colab": {
          "base_uri": "https://localhost:8080/"
        },
        "id": "gt5J5dj97twE",
        "outputId": "94d08268-cfc7-49cb-9f72-8c9b5e4aa001"
      },
      "source": [
        "from PIL import Image\n",
        "preds = np.argmax(model.predict(x_test), axis=-1)\n",
        "\n"
      ],
      "execution_count": 43,
      "outputs": [
        {
          "output_type": "execute_result",
          "data": {
            "text/plain": [
              "60000"
            ]
          },
          "metadata": {
            "tags": []
          },
          "execution_count": 43
        }
      ]
    }
  ]
}